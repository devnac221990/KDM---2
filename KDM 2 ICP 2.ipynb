{
  "nbformat": 4,
  "nbformat_minor": 0,
  "metadata": {
    "colab": {
      "name": "Untitled13.ipynb",
      "provenance": [],
      "authorship_tag": "ABX9TyObMckQLM+cg8norowkmBLz",
      "include_colab_link": true
    },
    "kernelspec": {
      "name": "python3",
      "display_name": "Python 3"
    }
  },
  "cells": [
    {
      "cell_type": "markdown",
      "metadata": {
        "id": "view-in-github",
        "colab_type": "text"
      },
      "source": [
        "<a href=\"https://colab.research.google.com/github/devnac221990/KDM---2/blob/main/KDM%202%20ICP%202.ipynb\" target=\"_parent\"><img src=\"https://colab.research.google.com/assets/colab-badge.svg\" alt=\"Open In Colab\"/></a>"
      ]
    },
    {
      "cell_type": "code",
      "metadata": {
        "colab": {
          "base_uri": "https://localhost:8080/"
        },
        "id": "kV9NSzvYznge",
        "outputId": "5d566306-2f63-42b9-b60a-83b30b199467"
      },
      "source": [
        "\r\n",
        "import nltk\r\n",
        "nltk.download('punkt')\r\n",
        "import pandas as pd\r\n",
        "from nltk.tokenize import sent_tokenize\r\n",
        "from nltk.tokenize import word_tokenize\r\n",
        "from nltk.probability import FreqDist\r\n",
        "import matplotlib.pyplot as plt\r\n",
        "from nltk.stem.snowball import SnowballStemmer\r\n",
        "import spacy"
      ],
      "execution_count": 1,
      "outputs": [
        {
          "output_type": "stream",
          "text": [
            "[nltk_data] Downloading package punkt to /root/nltk_data...\n",
            "[nltk_data]   Unzipping tokenizers/punkt.zip.\n"
          ],
          "name": "stdout"
        }
      ]
    },
    {
      "cell_type": "code",
      "metadata": {
        "colab": {
          "base_uri": "https://localhost:8080/"
        },
        "id": "zQQYs-lIz6cs",
        "outputId": "4dfa7108-9b9a-4688-f016-384f9050385b"
      },
      "source": [
        "sample_data = [\"Xi Jinping is a Chinese politician who has served as General Secretary of the Chinese Communist Party (CCP) and Chairman of the Central Military Commission (CMC) since 2012, and President of the People's Republic of China (PRC) since 2013. He has been the paramount leader of China, the most prominent political leader in the country, since 2012. The son of Chinese Communist veteran Xi Zhongxun, he was exiled to rural Yanchuan County as a teenager following his father's purge during the Cultural Revolutionandlived in a cave in the village of Liangjiahe, where he joined the CCP and worked as the party secretary.\"]\r\n",
        "print (sample_data)"
      ],
      "execution_count": 10,
      "outputs": [
        {
          "output_type": "stream",
          "text": [
            "[\"Xi Jinping is a Chinese politician who has served as General Secretary of the Chinese Communist Party (CCP) and Chairman of the Central Military Commission (CMC) since 2012, and President of the People's Republic of China (PRC) since 2013. He has been the paramount leader of China, the most prominent political leader in the country, since 2012. The son of Chinese Communist veteran Xi Zhongxun, he was exiled to rural Yanchuan County as a teenager following his father's purge during the Cultural Revolutionandlived in a cave in the village of Liangjiahe, where he joined the CCP and worked as the party secretary.\"]\n"
          ],
          "name": "stdout"
        }
      ]
    },
    {
      "cell_type": "code",
      "metadata": {
        "id": "LGYEaaiT3iUf"
      },
      "source": [
        "from nltk.tokenize import sent_tokenize\n",
        "\n",
        "def get_sent_tokens(data):\n",
        "    \"\"\"Sentence tokenization\"\"\"\n",
        "    sentences = []\n",
        "    for sent in data:\n",
        "        sentences.extend(sent_tokenize(sent))\n",
        "    print(sentences)\n",
        "    return sentences\n"
      ],
      "execution_count": 12,
      "outputs": []
    },
    {
      "cell_type": "code",
      "metadata": {
        "colab": {
          "base_uri": "https://localhost:8080/"
        },
        "id": "sC99CeCV2FEE",
        "outputId": "75174b3d-9c91-4491-d7c7-79084fe5fe41"
      },
      "source": [
        "sample_sentences = get_sent_tokens(sample_data)"
      ],
      "execution_count": 13,
      "outputs": [
        {
          "output_type": "stream",
          "text": [
            "[\"Xi Jinping is a Chinese politician who has served as General Secretary of the Chinese Communist Party (CCP) and Chairman of the Central Military Commission (CMC) since 2012, and President of the People's Republic of China (PRC) since 2013.\", 'He has been the paramount leader of China, the most prominent political leader in the country, since 2012.', \"The son of Chinese Communist veteran Xi Zhongxun, he was exiled to rural Yanchuan County as a teenager following his father's purge during the Cultural Revolutionandlived in a cave in the village of Liangjiahe, where he joined the CCP and worked as the party secretary.\"]\n"
          ],
          "name": "stdout"
        }
      ]
    },
    {
      "cell_type": "code",
      "metadata": {
        "id": "i5QgWANL3JbD",
        "colab": {
          "base_uri": "https://localhost:8080/"
        },
        "outputId": "69dc928d-255d-42f0-a78e-b213d47adbee"
      },
      "source": [
        "## import the libraries\n",
        "from spacy.lemmatizer import Lemmatizer\n",
        "from spacy.lookups import Lookups\n",
        "\n",
        "## lemmatization\n",
        "doc = nlp(\"Xi Jinping is a Chinese politician who has served as General Secretary of the Chinese Communist Party (CCP) and Chairman of the Central Military Commission (CMC) since 2012, and President of the People's Republic of China (PRC) since 2013. He has been the paramount leader of China, the most prominent political leader in the country, since 2012. The son of Chinese Communist veteran Xi Zhongxun, he was exiled to rural Yanchuan County as a teenager following his father's purge during the Cultural Revolutionandlived in a cave in the village of Liangjiahe, where he joined the CCP and worked as the party secretary.\")\n",
        "for word in doc:\n",
        "    print(word.text, \"=>\", word.lemma_)"
      ],
      "execution_count": 44,
      "outputs": [
        {
          "output_type": "stream",
          "text": [
            "Xi => Xi\n",
            "Jinping => Jinping\n",
            "is => be\n",
            "a => a\n",
            "Chinese => chinese\n",
            "politician => politician\n",
            "who => who\n",
            "has => have\n",
            "served => serve\n",
            "as => as\n",
            "General => General\n",
            "Secretary => Secretary\n",
            "of => of\n",
            "the => the\n",
            "Chinese => Chinese\n",
            "Communist => Communist\n",
            "Party => Party\n",
            "( => (\n",
            "CCP => CCP\n",
            ") => )\n",
            "and => and\n",
            "Chairman => Chairman\n",
            "of => of\n",
            "the => the\n",
            "Central => Central\n",
            "Military => Military\n",
            "Commission => Commission\n",
            "( => (\n",
            "CMC => CMC\n",
            ") => )\n",
            "since => since\n",
            "2012 => 2012\n",
            ", => ,\n",
            "and => and\n",
            "President => President\n",
            "of => of\n",
            "the => the\n",
            "People => People\n",
            "'s => 's\n",
            "Republic => Republic\n",
            "of => of\n",
            "China => China\n",
            "( => (\n",
            "PRC => PRC\n",
            ") => )\n",
            "since => since\n",
            "2013 => 2013\n",
            ". => .\n",
            "He => -PRON-\n",
            "has => have\n",
            "been => be\n",
            "the => the\n",
            "paramount => paramount\n",
            "leader => leader\n",
            "of => of\n",
            "China => China\n",
            ", => ,\n",
            "the => the\n",
            "most => most\n",
            "prominent => prominent\n",
            "political => political\n",
            "leader => leader\n",
            "in => in\n",
            "the => the\n",
            "country => country\n",
            ", => ,\n",
            "since => since\n",
            "2012 => 2012\n",
            ". => .\n",
            "The => the\n",
            "son => son\n",
            "of => of\n",
            "Chinese => Chinese\n",
            "Communist => communist\n",
            "veteran => veteran\n",
            "Xi => Xi\n",
            "Zhongxun => Zhongxun\n",
            ", => ,\n",
            "he => -PRON-\n",
            "was => be\n",
            "exiled => exile\n",
            "to => to\n",
            "rural => rural\n",
            "Yanchuan => Yanchuan\n",
            "County => County\n",
            "as => as\n",
            "a => a\n",
            "teenager => teenager\n",
            "following => follow\n",
            "his => -PRON-\n",
            "father => father\n",
            "'s => 's\n",
            "purge => purge\n",
            "during => during\n",
            "the => the\n",
            "Cultural => Cultural\n",
            "Revolutionandlived => revolutionandlive\n",
            "in => in\n",
            "a => a\n",
            "cave => cave\n",
            "in => in\n",
            "the => the\n",
            "village => village\n",
            "of => of\n",
            "Liangjiahe => Liangjiahe\n",
            ", => ,\n",
            "where => where\n",
            "he => -PRON-\n",
            "joined => join\n",
            "the => the\n",
            "CCP => CCP\n",
            "and => and\n",
            "worked => work\n",
            "as => as\n",
            "the => the\n",
            "party => party\n",
            "secretary => secretary\n",
            ". => .\n"
          ],
          "name": "stdout"
        }
      ]
    },
    {
      "cell_type": "code",
      "metadata": {
        "colab": {
          "base_uri": "https://localhost:8080/"
        },
        "id": "imSeLDXO4_tU",
        "outputId": "9b664eed-fe53-450f-b6cb-8f7f5b41522b"
      },
      "source": [
        "import spacy\r\n",
        "\r\n",
        "# Download a spacy model for processing English\r\n",
        "nlp = spacy.load(\"en_core_web_sm\")\r\n",
        "\r\n",
        "# Process a sentence using the spacy model\r\n",
        "doc = nlp(\"Xi Jinping is a Chinese politician who has served as General Secretary of the Chinese Communist Party (CCP) and Chairman of the Central Military Commission (CMC) since 2012, and President of the People's Republic of China (PRC) since 2013. He has been the paramount leader of China, the most prominent political leader in the country, since 2012. The son of Chinese Communist veteran Xi Zhongxun, he was exiled to rural Yanchuan County as a teenager following his father's purge during the Cultural Revolutionandlived in a cave in the village of Liangjiahe, where he joined the CCP and worked as the party secretary.\")\r\n",
        "\r\n",
        "# Display the entities found by the model, and the type of each.\r\n",
        "print('{:<12}  {:}\\n'.format('Entity', 'Type'))\r\n",
        "\r\n",
        "# For each entity found...\r\n",
        "for ent in doc.ents:\r\n",
        "    \r\n",
        "    # Print the entity text `ent.text` and its label `ent.label_`.\r\n",
        "    print('{:<12}  {:}'.format(ent.text, ent.label_))"
      ],
      "execution_count": 38,
      "outputs": [
        {
          "output_type": "stream",
          "text": [
            "Entity        Type\n",
            "\n",
            "Xi Jinping    PERSON\n",
            "Chinese       NORP\n",
            "the Chinese Communist Party  ORG\n",
            "CCP           ORG\n",
            "the Central Military Commission  ORG\n",
            "2012          DATE\n",
            "the People's Republic of China  GPE\n",
            "PRC           GPE\n",
            "2013          DATE\n",
            "China         GPE\n",
            "2012          DATE\n",
            "Chinese       NORP\n",
            "Communist     NORP\n",
            "Xi Zhongxun   PERSON\n",
            "Yanchuan County  GPE\n",
            "the Cultural Revolutionandlived  EVENT\n",
            "Liangjiahe    GPE\n",
            "CCP           ORG\n"
          ],
          "name": "stdout"
        }
      ]
    },
    {
      "cell_type": "code",
      "metadata": {
        "id": "qY_N_FER3iUk"
      },
      "source": [
        "from nltk.tokenize import word_tokenize\n",
        "\n",
        "def get_word_tokens(sentences):\n",
        "    '''Word tokenization'''\n",
        "    words = []\n",
        "    for sent in sentences:\n",
        "        words.extend(word_tokenize(sent))\n",
        "    print(words)\n",
        "    return(words)\n"
      ],
      "execution_count": 14,
      "outputs": []
    },
    {
      "cell_type": "code",
      "metadata": {
        "colab": {
          "base_uri": "https://localhost:8080/"
        },
        "id": "UTCcafEX2ZcF",
        "outputId": "455bd2ac-86fa-4e27-9fad-869078a7b5ca"
      },
      "source": [
        "sample_words = get_word_tokens(sample_sentences)"
      ],
      "execution_count": 15,
      "outputs": [
        {
          "output_type": "stream",
          "text": [
            "['Xi', 'Jinping', 'is', 'a', 'Chinese', 'politician', 'who', 'has', 'served', 'as', 'General', 'Secretary', 'of', 'the', 'Chinese', 'Communist', 'Party', '(', 'CCP', ')', 'and', 'Chairman', 'of', 'the', 'Central', 'Military', 'Commission', '(', 'CMC', ')', 'since', '2012', ',', 'and', 'President', 'of', 'the', 'People', \"'s\", 'Republic', 'of', 'China', '(', 'PRC', ')', 'since', '2013', '.', 'He', 'has', 'been', 'the', 'paramount', 'leader', 'of', 'China', ',', 'the', 'most', 'prominent', 'political', 'leader', 'in', 'the', 'country', ',', 'since', '2012', '.', 'The', 'son', 'of', 'Chinese', 'Communist', 'veteran', 'Xi', 'Zhongxun', ',', 'he', 'was', 'exiled', 'to', 'rural', 'Yanchuan', 'County', 'as', 'a', 'teenager', 'following', 'his', 'father', \"'s\", 'purge', 'during', 'the', 'Cultural', 'Revolutionandlived', 'in', 'a', 'cave', 'in', 'the', 'village', 'of', 'Liangjiahe', ',', 'where', 'he', 'joined', 'the', 'CCP', 'and', 'worked', 'as', 'the', 'party', 'secretary', '.']\n"
          ],
          "name": "stdout"
        }
      ]
    },
    {
      "cell_type": "code",
      "metadata": {
        "id": "Zpd5i2pw3iU8",
        "colab": {
          "base_uri": "https://localhost:8080/",
          "height": 246
        },
        "outputId": "453c3341-2574-4138-92e3-08e3fb28f7fa"
      },
      "source": [
        "nltk.download('wordnet')\n",
        "from nltk.stem import WordNetLemmatizer\n",
        "def get_lemma(sample_words):\n",
        "    wordnet_lemmatizer = WordNetLemmatizer()\n",
        "    lemma = []\n",
        "    for word in sample_words:\n",
        "        lemma.append(wordnet_lemmatizer.lemmatize(\"sample_words\")) # Warning: Lemmatizer needs a POS tag or else it treats it as a noun and doesn't change it\n",
        "print (lemma)\n",
        "return(lemma)"
      ],
      "execution_count": 42,
      "outputs": [
        {
          "output_type": "stream",
          "text": [
            "[nltk_data] Downloading package wordnet to /root/nltk_data...\n",
            "[nltk_data]   Package wordnet is already up-to-date!\n"
          ],
          "name": "stdout"
        },
        {
          "output_type": "error",
          "ename": "NameError",
          "evalue": "ignored",
          "traceback": [
            "\u001b[0;31m---------------------------------------------------------------------------\u001b[0m",
            "\u001b[0;31mNameError\u001b[0m                                 Traceback (most recent call last)",
            "\u001b[0;32m<ipython-input-42-c1225b2135af>\u001b[0m in \u001b[0;36m<module>\u001b[0;34m()\u001b[0m\n\u001b[1;32m      6\u001b[0m     \u001b[0;32mfor\u001b[0m \u001b[0mword\u001b[0m \u001b[0;32min\u001b[0m \u001b[0msample_words\u001b[0m\u001b[0;34m:\u001b[0m\u001b[0;34m\u001b[0m\u001b[0;34m\u001b[0m\u001b[0m\n\u001b[1;32m      7\u001b[0m         \u001b[0mlemma\u001b[0m\u001b[0;34m.\u001b[0m\u001b[0mappend\u001b[0m\u001b[0;34m(\u001b[0m\u001b[0mwordnet_lemmatizer\u001b[0m\u001b[0;34m.\u001b[0m\u001b[0mlemmatize\u001b[0m\u001b[0;34m(\u001b[0m\u001b[0;34m\"sample_words\"\u001b[0m\u001b[0;34m)\u001b[0m\u001b[0;34m)\u001b[0m \u001b[0;31m# Warning: Lemmatizer needs a POS tag or else it treats it as a noun and doesn't change it\u001b[0m\u001b[0;34m\u001b[0m\u001b[0;34m\u001b[0m\u001b[0m\n\u001b[0;32m----> 8\u001b[0;31m \u001b[0mprint\u001b[0m \u001b[0;34m(\u001b[0m\u001b[0mlemma\u001b[0m\u001b[0;34m)\u001b[0m\u001b[0;34m\u001b[0m\u001b[0;34m\u001b[0m\u001b[0m\n\u001b[0m\u001b[1;32m      9\u001b[0m \u001b[0;32mreturn\u001b[0m\u001b[0;34m(\u001b[0m\u001b[0mlemma\u001b[0m\u001b[0;34m)\u001b[0m\u001b[0;34m\u001b[0m\u001b[0;34m\u001b[0m\u001b[0m\n",
            "\u001b[0;31mNameError\u001b[0m: name 'lemma' is not defined"
          ]
        }
      ]
    },
    {
      "cell_type": "code",
      "metadata": {
        "id": "ruZdfBL03iVC",
        "colab": {
          "base_uri": "https://localhost:8080/"
        },
        "outputId": "b19b42cf-3dcd-4d9d-c249-f23bf703328c"
      },
      "source": [
        "nltk.download('averaged_perceptron_tagger')\n",
        "\n",
        "def get_pos_tags(words):\n",
        "    tags=[]\n",
        "    for word in words:\n",
        "        tags.append(nltk.pos_tag([word]))\n",
        "    print(tags)\n",
        "    return tags"
      ],
      "execution_count": 27,
      "outputs": [
        {
          "output_type": "stream",
          "text": [
            "[nltk_data] Downloading package averaged_perceptron_tagger to\n",
            "[nltk_data]     /root/nltk_data...\n",
            "[nltk_data]   Unzipping taggers/averaged_perceptron_tagger.zip.\n"
          ],
          "name": "stdout"
        }
      ]
    },
    {
      "cell_type": "code",
      "metadata": {
        "colab": {
          "base_uri": "https://localhost:8080/"
        },
        "id": "T8Phy4l53Tn3",
        "outputId": "dfa7a9e7-7c6c-42d7-b49e-acda7f4bd532"
      },
      "source": [
        "sample_tags = get_pos_tags(sample_words)"
      ],
      "execution_count": 28,
      "outputs": [
        {
          "output_type": "stream",
          "text": [
            "[[('Xi', 'NN')], [('Jinping', 'VBG')], [('is', 'VBZ')], [('a', 'DT')], [('Chinese', 'JJ')], [('politician', 'NN')], [('who', 'WP')], [('has', 'VBZ')], [('served', 'VBD')], [('as', 'IN')], [('General', 'NNP')], [('Secretary', 'NNP')], [('of', 'IN')], [('the', 'DT')], [('Chinese', 'JJ')], [('Communist', 'NN')], [('Party', 'NNP')], [('(', '(')], [('CCP', 'NN')], [(')', ')')], [('and', 'CC')], [('Chairman', 'NNP')], [('of', 'IN')], [('the', 'DT')], [('Central', 'JJ')], [('Military', 'JJ')], [('Commission', 'NNP')], [('(', '(')], [('CMC', 'NN')], [(')', ')')], [('since', 'IN')], [('2012', 'CD')], [(',', ',')], [('and', 'CC')], [('President', 'NNP')], [('of', 'IN')], [('the', 'DT')], [('People', 'NNS')], [(\"'s\", 'POS')], [('Republic', 'JJ')], [('of', 'IN')], [('China', 'NNP')], [('(', '(')], [('PRC', 'NN')], [(')', ')')], [('since', 'IN')], [('2013', 'CD')], [('.', '.')], [('He', 'PRP')], [('has', 'VBZ')], [('been', 'VBN')], [('the', 'DT')], [('paramount', 'NN')], [('leader', 'NN')], [('of', 'IN')], [('China', 'NNP')], [(',', ',')], [('the', 'DT')], [('most', 'JJS')], [('prominent', 'NN')], [('political', 'JJ')], [('leader', 'NN')], [('in', 'IN')], [('the', 'DT')], [('country', 'NN')], [(',', ',')], [('since', 'IN')], [('2012', 'CD')], [('.', '.')], [('The', 'DT')], [('son', 'NN')], [('of', 'IN')], [('Chinese', 'JJ')], [('Communist', 'NN')], [('veteran', 'NN')], [('Xi', 'NN')], [('Zhongxun', 'NN')], [(',', ',')], [('he', 'PRP')], [('was', 'VBD')], [('exiled', 'VBN')], [('to', 'TO')], [('rural', 'JJ')], [('Yanchuan', 'NN')], [('County', 'NNP')], [('as', 'IN')], [('a', 'DT')], [('teenager', 'NN')], [('following', 'VBG')], [('his', 'PRP$')], [('father', 'NN')], [(\"'s\", 'POS')], [('purge', 'NN')], [('during', 'IN')], [('the', 'DT')], [('Cultural', 'JJ')], [('Revolutionandlived', 'VBN')], [('in', 'IN')], [('a', 'DT')], [('cave', 'NN')], [('in', 'IN')], [('the', 'DT')], [('village', 'NN')], [('of', 'IN')], [('Liangjiahe', 'NN')], [(',', ',')], [('where', 'WRB')], [('he', 'PRP')], [('joined', 'VBD')], [('the', 'DT')], [('CCP', 'NN')], [('and', 'CC')], [('worked', 'VBN')], [('as', 'IN')], [('the', 'DT')], [('party', 'NN')], [('secretary', 'NN')], [('.', '.')]]\n"
          ],
          "name": "stdout"
        }
      ]
    },
    {
      "cell_type": "code",
      "metadata": {
        "id": "NIlZH1T84Gxy"
      },
      "source": [
        ""
      ],
      "execution_count": null,
      "outputs": []
    }
  ]
}