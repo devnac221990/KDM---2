{
  "nbformat": 4,
  "nbformat_minor": 0,
  "metadata": {
    "colab": {
      "name": "ICP 2.1.ipynb",
      "provenance": [],
      "collapsed_sections": [],
      "authorship_tag": "ABX9TyPty5Ls2cgkqsA1sMBBMqIm",
      "include_colab_link": true
    },
    "kernelspec": {
      "name": "python3",
      "display_name": "Python 3"
    }
  },
  "cells": [
    {
      "cell_type": "markdown",
      "metadata": {
        "id": "view-in-github",
        "colab_type": "text"
      },
      "source": [
        "<a href=\"https://colab.research.google.com/github/devnac221990/KDM---2/blob/main/ICP_2_1.ipynb\" target=\"_parent\"><img src=\"https://colab.research.google.com/assets/colab-badge.svg\" alt=\"Open In Colab\"/></a>"
      ]
    },
    {
      "cell_type": "code",
      "metadata": {
        "colab": {
          "base_uri": "https://localhost:8080/"
        },
        "id": "kV9NSzvYznge",
        "outputId": "b563bc9c-6c6f-44f7-8c93-5ec3ad06e0c2"
      },
      "source": [
        "\r\n",
        "import nltk\r\n",
        "nltk.download('punkt')\r\n",
        "import pandas as pd\r\n",
        "from nltk.tokenize import sent_tokenize\r\n",
        "from nltk.tokenize import word_tokenize\r\n",
        "from nltk.probability import FreqDist\r\n",
        "import matplotlib.pyplot as plt\r\n",
        "from nltk.stem.snowball import SnowballStemmer\r\n",
        "import spacy"
      ],
      "execution_count": 1,
      "outputs": [
        {
          "output_type": "stream",
          "text": [
            "[nltk_data] Downloading package punkt to /root/nltk_data...\n",
            "[nltk_data]   Unzipping tokenizers/punkt.zip.\n"
          ],
          "name": "stdout"
        }
      ]
    },
    {
      "cell_type": "code",
      "metadata": {
        "colab": {
          "base_uri": "https://localhost:8080/"
        },
        "id": "9XW8TYiw-jxR",
        "outputId": "3aec40c1-8757-4b3f-e444-8f4e821fde22"
      },
      "source": [
        "!pip install spacy\r\n",
        "!pip install en_core_web_sm"
      ],
      "execution_count": 2,
      "outputs": [
        {
          "output_type": "stream",
          "text": [
            "Requirement already satisfied: spacy in /usr/local/lib/python3.6/dist-packages (2.2.4)\n",
            "Requirement already satisfied: cymem<2.1.0,>=2.0.2 in /usr/local/lib/python3.6/dist-packages (from spacy) (2.0.5)\n",
            "Requirement already satisfied: numpy>=1.15.0 in /usr/local/lib/python3.6/dist-packages (from spacy) (1.19.5)\n",
            "Requirement already satisfied: preshed<3.1.0,>=3.0.2 in /usr/local/lib/python3.6/dist-packages (from spacy) (3.0.5)\n",
            "Requirement already satisfied: murmurhash<1.1.0,>=0.28.0 in /usr/local/lib/python3.6/dist-packages (from spacy) (1.0.5)\n",
            "Requirement already satisfied: tqdm<5.0.0,>=4.38.0 in /usr/local/lib/python3.6/dist-packages (from spacy) (4.41.1)\n",
            "Requirement already satisfied: srsly<1.1.0,>=1.0.2 in /usr/local/lib/python3.6/dist-packages (from spacy) (1.0.5)\n",
            "Requirement already satisfied: requests<3.0.0,>=2.13.0 in /usr/local/lib/python3.6/dist-packages (from spacy) (2.23.0)\n",
            "Requirement already satisfied: thinc==7.4.0 in /usr/local/lib/python3.6/dist-packages (from spacy) (7.4.0)\n",
            "Requirement already satisfied: catalogue<1.1.0,>=0.0.7 in /usr/local/lib/python3.6/dist-packages (from spacy) (1.0.0)\n",
            "Requirement already satisfied: blis<0.5.0,>=0.4.0 in /usr/local/lib/python3.6/dist-packages (from spacy) (0.4.1)\n",
            "Requirement already satisfied: plac<1.2.0,>=0.9.6 in /usr/local/lib/python3.6/dist-packages (from spacy) (1.1.3)\n",
            "Requirement already satisfied: setuptools in /usr/local/lib/python3.6/dist-packages (from spacy) (51.3.3)\n",
            "Requirement already satisfied: wasabi<1.1.0,>=0.4.0 in /usr/local/lib/python3.6/dist-packages (from spacy) (0.8.1)\n",
            "Requirement already satisfied: idna<3,>=2.5 in /usr/local/lib/python3.6/dist-packages (from requests<3.0.0,>=2.13.0->spacy) (2.10)\n",
            "Requirement already satisfied: certifi>=2017.4.17 in /usr/local/lib/python3.6/dist-packages (from requests<3.0.0,>=2.13.0->spacy) (2020.12.5)\n",
            "Requirement already satisfied: urllib3!=1.25.0,!=1.25.1,<1.26,>=1.21.1 in /usr/local/lib/python3.6/dist-packages (from requests<3.0.0,>=2.13.0->spacy) (1.24.3)\n",
            "Requirement already satisfied: chardet<4,>=3.0.2 in /usr/local/lib/python3.6/dist-packages (from requests<3.0.0,>=2.13.0->spacy) (3.0.4)\n",
            "Requirement already satisfied: importlib-metadata>=0.20; python_version < \"3.8\" in /usr/local/lib/python3.6/dist-packages (from catalogue<1.1.0,>=0.0.7->spacy) (3.4.0)\n",
            "Requirement already satisfied: zipp>=0.5 in /usr/local/lib/python3.6/dist-packages (from importlib-metadata>=0.20; python_version < \"3.8\"->catalogue<1.1.0,>=0.0.7->spacy) (3.4.0)\n",
            "Requirement already satisfied: typing-extensions>=3.6.4; python_version < \"3.8\" in /usr/local/lib/python3.6/dist-packages (from importlib-metadata>=0.20; python_version < \"3.8\"->catalogue<1.1.0,>=0.0.7->spacy) (3.7.4.3)\n",
            "Requirement already satisfied: en_core_web_sm in /usr/local/lib/python3.6/dist-packages (2.2.5)\n",
            "Requirement already satisfied: spacy>=2.2.2 in /usr/local/lib/python3.6/dist-packages (from en_core_web_sm) (2.2.4)\n",
            "Requirement already satisfied: blis<0.5.0,>=0.4.0 in /usr/local/lib/python3.6/dist-packages (from spacy>=2.2.2->en_core_web_sm) (0.4.1)\n",
            "Requirement already satisfied: wasabi<1.1.0,>=0.4.0 in /usr/local/lib/python3.6/dist-packages (from spacy>=2.2.2->en_core_web_sm) (0.8.1)\n",
            "Requirement already satisfied: catalogue<1.1.0,>=0.0.7 in /usr/local/lib/python3.6/dist-packages (from spacy>=2.2.2->en_core_web_sm) (1.0.0)\n",
            "Requirement already satisfied: numpy>=1.15.0 in /usr/local/lib/python3.6/dist-packages (from spacy>=2.2.2->en_core_web_sm) (1.19.5)\n",
            "Requirement already satisfied: thinc==7.4.0 in /usr/local/lib/python3.6/dist-packages (from spacy>=2.2.2->en_core_web_sm) (7.4.0)\n",
            "Requirement already satisfied: tqdm<5.0.0,>=4.38.0 in /usr/local/lib/python3.6/dist-packages (from spacy>=2.2.2->en_core_web_sm) (4.41.1)\n",
            "Requirement already satisfied: setuptools in /usr/local/lib/python3.6/dist-packages (from spacy>=2.2.2->en_core_web_sm) (51.3.3)\n",
            "Requirement already satisfied: preshed<3.1.0,>=3.0.2 in /usr/local/lib/python3.6/dist-packages (from spacy>=2.2.2->en_core_web_sm) (3.0.5)\n",
            "Requirement already satisfied: plac<1.2.0,>=0.9.6 in /usr/local/lib/python3.6/dist-packages (from spacy>=2.2.2->en_core_web_sm) (1.1.3)\n",
            "Requirement already satisfied: requests<3.0.0,>=2.13.0 in /usr/local/lib/python3.6/dist-packages (from spacy>=2.2.2->en_core_web_sm) (2.23.0)\n",
            "Requirement already satisfied: cymem<2.1.0,>=2.0.2 in /usr/local/lib/python3.6/dist-packages (from spacy>=2.2.2->en_core_web_sm) (2.0.5)\n",
            "Requirement already satisfied: murmurhash<1.1.0,>=0.28.0 in /usr/local/lib/python3.6/dist-packages (from spacy>=2.2.2->en_core_web_sm) (1.0.5)\n",
            "Requirement already satisfied: srsly<1.1.0,>=1.0.2 in /usr/local/lib/python3.6/dist-packages (from spacy>=2.2.2->en_core_web_sm) (1.0.5)\n",
            "Requirement already satisfied: importlib-metadata>=0.20; python_version < \"3.8\" in /usr/local/lib/python3.6/dist-packages (from catalogue<1.1.0,>=0.0.7->spacy>=2.2.2->en_core_web_sm) (3.4.0)\n",
            "Requirement already satisfied: urllib3!=1.25.0,!=1.25.1,<1.26,>=1.21.1 in /usr/local/lib/python3.6/dist-packages (from requests<3.0.0,>=2.13.0->spacy>=2.2.2->en_core_web_sm) (1.24.3)\n",
            "Requirement already satisfied: idna<3,>=2.5 in /usr/local/lib/python3.6/dist-packages (from requests<3.0.0,>=2.13.0->spacy>=2.2.2->en_core_web_sm) (2.10)\n",
            "Requirement already satisfied: certifi>=2017.4.17 in /usr/local/lib/python3.6/dist-packages (from requests<3.0.0,>=2.13.0->spacy>=2.2.2->en_core_web_sm) (2020.12.5)\n",
            "Requirement already satisfied: chardet<4,>=3.0.2 in /usr/local/lib/python3.6/dist-packages (from requests<3.0.0,>=2.13.0->spacy>=2.2.2->en_core_web_sm) (3.0.4)\n",
            "Requirement already satisfied: zipp>=0.5 in /usr/local/lib/python3.6/dist-packages (from importlib-metadata>=0.20; python_version < \"3.8\"->catalogue<1.1.0,>=0.0.7->spacy>=2.2.2->en_core_web_sm) (3.4.0)\n",
            "Requirement already satisfied: typing-extensions>=3.6.4; python_version < \"3.8\" in /usr/local/lib/python3.6/dist-packages (from importlib-metadata>=0.20; python_version < \"3.8\"->catalogue<1.1.0,>=0.0.7->spacy>=2.2.2->en_core_web_sm) (3.7.4.3)\n"
          ],
          "name": "stdout"
        }
      ]
    },
    {
      "cell_type": "code",
      "metadata": {
        "id": "8OpqSqHc9znw"
      },
      "source": [
        "import spacy\n",
        "\n",
        "nlp = spacy.load (\"en_core_web_sm\")"
      ],
      "execution_count": 3,
      "outputs": []
    },
    {
      "cell_type": "code",
      "metadata": {
        "id": "5_CAeSaq9znx",
        "colab": {
          "base_uri": "https://localhost:8080/"
        },
        "outputId": "abeb5f3a-fc9e-4bc3-8c8e-68d455e664c4"
      },
      "source": [
        "text = \"Xi Jinping is a Chinese politician who has served as General Secretary of the Chinese Communist Party (CCP) and Chairman of the Central Military Commission (CMC) since 2012, and President of the People's Republic of China (PRC) since 2013. He has been the paramount leader of China, the most prominent political leader in the country, since 2012. The son of Chinese Communist veteran Xi Zhongxun, he was exiled to rural Yanchuan County as a teenager following his father's purge during the Cultural Revolutionandlived in a cave in the village of Liangjiahe, where he joined the CCP and worked as the party secretary.\"\n",
        "doc = nlp(text)\n",
        "\n",
        "for token in doc:\n",
        "    print(token.text, token.lemma_, token.pos_, token.is_stop)"
      ],
      "execution_count": 4,
      "outputs": [
        {
          "output_type": "stream",
          "text": [
            "Xi Xi PROPN False\n",
            "Jinping Jinping PROPN False\n",
            "is be AUX True\n",
            "a a DET True\n",
            "Chinese chinese ADJ False\n",
            "politician politician NOUN False\n",
            "who who PRON True\n",
            "has have AUX True\n",
            "served serve VERB False\n",
            "as as SCONJ True\n",
            "General General PROPN False\n",
            "Secretary Secretary PROPN False\n",
            "of of ADP True\n",
            "the the DET True\n",
            "Chinese Chinese PROPN False\n",
            "Communist Communist PROPN False\n",
            "Party Party PROPN False\n",
            "( ( PUNCT False\n",
            "CCP CCP PROPN False\n",
            ") ) PUNCT False\n",
            "and and CCONJ True\n",
            "Chairman Chairman PROPN False\n",
            "of of ADP True\n",
            "the the DET True\n",
            "Central Central PROPN False\n",
            "Military Military PROPN False\n",
            "Commission Commission PROPN False\n",
            "( ( PUNCT False\n",
            "CMC CMC PROPN False\n",
            ") ) PUNCT False\n",
            "since since SCONJ True\n",
            "2012 2012 NUM False\n",
            ", , PUNCT False\n",
            "and and CCONJ True\n",
            "President President PROPN False\n",
            "of of ADP True\n",
            "the the DET True\n",
            "People People PROPN False\n",
            "'s 's PART True\n",
            "Republic Republic PROPN False\n",
            "of of ADP True\n",
            "China China PROPN False\n",
            "( ( PUNCT False\n",
            "PRC PRC PROPN False\n",
            ") ) PUNCT False\n",
            "since since SCONJ True\n",
            "2013 2013 NUM False\n",
            ". . PUNCT False\n",
            "He -PRON- PRON True\n",
            "has have AUX True\n",
            "been be AUX True\n",
            "the the DET True\n",
            "paramount paramount ADJ False\n",
            "leader leader NOUN False\n",
            "of of ADP True\n",
            "China China PROPN False\n",
            ", , PUNCT False\n",
            "the the DET True\n",
            "most most ADV True\n",
            "prominent prominent ADJ False\n",
            "political political ADJ False\n",
            "leader leader NOUN False\n",
            "in in ADP True\n",
            "the the DET True\n",
            "country country NOUN False\n",
            ", , PUNCT False\n",
            "since since SCONJ True\n",
            "2012 2012 NUM False\n",
            ". . PUNCT False\n",
            "The the DET True\n",
            "son son NOUN False\n",
            "of of ADP True\n",
            "Chinese Chinese PROPN False\n",
            "Communist communist ADJ False\n",
            "veteran veteran NOUN False\n",
            "Xi Xi PROPN False\n",
            "Zhongxun Zhongxun PROPN False\n",
            ", , PUNCT False\n",
            "he -PRON- PRON True\n",
            "was be AUX True\n",
            "exiled exile VERB False\n",
            "to to ADP True\n",
            "rural rural ADJ False\n",
            "Yanchuan Yanchuan PROPN False\n",
            "County County PROPN False\n",
            "as as SCONJ True\n",
            "a a DET True\n",
            "teenager teenager NOUN False\n",
            "following follow VERB False\n",
            "his -PRON- DET True\n",
            "father father NOUN False\n",
            "'s 's PART True\n",
            "purge purge NOUN False\n",
            "during during ADP True\n",
            "the the DET True\n",
            "Cultural Cultural PROPN False\n",
            "Revolutionandlived revolutionandlive VERB False\n",
            "in in ADP True\n",
            "a a DET True\n",
            "cave cave NOUN False\n",
            "in in ADP True\n",
            "the the DET True\n",
            "village village NOUN False\n",
            "of of ADP True\n",
            "Liangjiahe Liangjiahe PROPN False\n",
            ", , PUNCT False\n",
            "where where ADV True\n",
            "he -PRON- PRON True\n",
            "joined join VERB False\n",
            "the the DET True\n",
            "CCP CCP PROPN False\n",
            "and and CCONJ True\n",
            "worked work VERB False\n",
            "as as SCONJ True\n",
            "the the DET True\n",
            "party party NOUN False\n",
            "secretary secretary NOUN False\n",
            ". . PUNCT False\n"
          ],
          "name": "stdout"
        }
      ]
    },
    {
      "cell_type": "code",
      "metadata": {
        "colab": {
          "base_uri": "https://localhost:8080/"
        },
        "id": "zQQYs-lIz6cs",
        "outputId": "9562c77a-90e5-4924-f56d-cfc57faebacb"
      },
      "source": [
        "sample_data = [\"Xi Jinping is a Chinese politician who has served as General Secretary of the Chinese Communist Party (CCP) and Chairman of the Central Military Commission (CMC) since 2012, and President of the People's Republic of China (PRC) since 2013. He has been the paramount leader of China, the most prominent political leader in the country, since 2012. The son of Chinese Communist veteran Xi Zhongxun, he was exiled to rural Yanchuan County as a teenager following his father's purge during the Cultural Revolutionandlived in a cave in the village of Liangjiahe, where he joined the CCP and worked as the party secretary.\"]\r\n",
        "print (sample_data)"
      ],
      "execution_count": 5,
      "outputs": [
        {
          "output_type": "stream",
          "text": [
            "[\"Xi Jinping is a Chinese politician who has served as General Secretary of the Chinese Communist Party (CCP) and Chairman of the Central Military Commission (CMC) since 2012, and President of the People's Republic of China (PRC) since 2013. He has been the paramount leader of China, the most prominent political leader in the country, since 2012. The son of Chinese Communist veteran Xi Zhongxun, he was exiled to rural Yanchuan County as a teenager following his father's purge during the Cultural Revolutionandlived in a cave in the village of Liangjiahe, where he joined the CCP and worked as the party secretary.\"]\n"
          ],
          "name": "stdout"
        }
      ]
    },
    {
      "cell_type": "code",
      "metadata": {
        "id": "LGYEaaiT3iUf"
      },
      "source": [
        "from nltk.tokenize import sent_tokenize\n",
        "\n",
        "def get_sent_tokens(data):\n",
        "    \"\"\"Sentence tokenization\"\"\"\n",
        "    sentences = []\n",
        "    for sent in data:\n",
        "        sentences.extend(sent_tokenize(sent))\n",
        "    print(sentences)\n",
        "    return sentences\n"
      ],
      "execution_count": 6,
      "outputs": []
    },
    {
      "cell_type": "code",
      "metadata": {
        "colab": {
          "base_uri": "https://localhost:8080/"
        },
        "id": "sC99CeCV2FEE",
        "outputId": "5e2e523e-0867-4054-d855-7d61e1bbd67a"
      },
      "source": [
        "sample_sentences = get_sent_tokens(sample_data)"
      ],
      "execution_count": 7,
      "outputs": [
        {
          "output_type": "stream",
          "text": [
            "[\"Xi Jinping is a Chinese politician who has served as General Secretary of the Chinese Communist Party (CCP) and Chairman of the Central Military Commission (CMC) since 2012, and President of the People's Republic of China (PRC) since 2013.\", 'He has been the paramount leader of China, the most prominent political leader in the country, since 2012.', \"The son of Chinese Communist veteran Xi Zhongxun, he was exiled to rural Yanchuan County as a teenager following his father's purge during the Cultural Revolutionandlived in a cave in the village of Liangjiahe, where he joined the CCP and worked as the party secretary.\"]\n"
          ],
          "name": "stdout"
        }
      ]
    },
    {
      "cell_type": "code",
      "metadata": {
        "id": "i5QgWANL3JbD",
        "colab": {
          "base_uri": "https://localhost:8080/"
        },
        "outputId": "bce47b33-603b-4b87-f1cc-26a245055b7c"
      },
      "source": [
        "## import the libraries\n",
        "from spacy.lemmatizer import Lemmatizer\n",
        "from spacy.lookups import Lookups\n",
        "\n",
        "## lemmatization\n",
        "doc = nlp(\"Xi Jinping is a Chinese politician who has served as General Secretary of the Chinese Communist Party (CCP) and Chairman of the Central Military Commission (CMC) since 2012, and President of the People's Republic of China (PRC) since 2013. He has been the paramount leader of China, the most prominent political leader in the country, since 2012. The son of Chinese Communist veteran Xi Zhongxun, he was exiled to rural Yanchuan County as a teenager following his father's purge during the Cultural Revolutionandlived in a cave in the village of Liangjiahe, where he joined the CCP and worked as the party secretary.\")\n",
        "for word in doc:\n",
        "    print(word.text, \"=>\", word.lemma_)"
      ],
      "execution_count": 8,
      "outputs": [
        {
          "output_type": "stream",
          "text": [
            "Xi => Xi\n",
            "Jinping => Jinping\n",
            "is => be\n",
            "a => a\n",
            "Chinese => chinese\n",
            "politician => politician\n",
            "who => who\n",
            "has => have\n",
            "served => serve\n",
            "as => as\n",
            "General => General\n",
            "Secretary => Secretary\n",
            "of => of\n",
            "the => the\n",
            "Chinese => Chinese\n",
            "Communist => Communist\n",
            "Party => Party\n",
            "( => (\n",
            "CCP => CCP\n",
            ") => )\n",
            "and => and\n",
            "Chairman => Chairman\n",
            "of => of\n",
            "the => the\n",
            "Central => Central\n",
            "Military => Military\n",
            "Commission => Commission\n",
            "( => (\n",
            "CMC => CMC\n",
            ") => )\n",
            "since => since\n",
            "2012 => 2012\n",
            ", => ,\n",
            "and => and\n",
            "President => President\n",
            "of => of\n",
            "the => the\n",
            "People => People\n",
            "'s => 's\n",
            "Republic => Republic\n",
            "of => of\n",
            "China => China\n",
            "( => (\n",
            "PRC => PRC\n",
            ") => )\n",
            "since => since\n",
            "2013 => 2013\n",
            ". => .\n",
            "He => -PRON-\n",
            "has => have\n",
            "been => be\n",
            "the => the\n",
            "paramount => paramount\n",
            "leader => leader\n",
            "of => of\n",
            "China => China\n",
            ", => ,\n",
            "the => the\n",
            "most => most\n",
            "prominent => prominent\n",
            "political => political\n",
            "leader => leader\n",
            "in => in\n",
            "the => the\n",
            "country => country\n",
            ", => ,\n",
            "since => since\n",
            "2012 => 2012\n",
            ". => .\n",
            "The => the\n",
            "son => son\n",
            "of => of\n",
            "Chinese => Chinese\n",
            "Communist => communist\n",
            "veteran => veteran\n",
            "Xi => Xi\n",
            "Zhongxun => Zhongxun\n",
            ", => ,\n",
            "he => -PRON-\n",
            "was => be\n",
            "exiled => exile\n",
            "to => to\n",
            "rural => rural\n",
            "Yanchuan => Yanchuan\n",
            "County => County\n",
            "as => as\n",
            "a => a\n",
            "teenager => teenager\n",
            "following => follow\n",
            "his => -PRON-\n",
            "father => father\n",
            "'s => 's\n",
            "purge => purge\n",
            "during => during\n",
            "the => the\n",
            "Cultural => Cultural\n",
            "Revolutionandlived => revolutionandlive\n",
            "in => in\n",
            "a => a\n",
            "cave => cave\n",
            "in => in\n",
            "the => the\n",
            "village => village\n",
            "of => of\n",
            "Liangjiahe => Liangjiahe\n",
            ", => ,\n",
            "where => where\n",
            "he => -PRON-\n",
            "joined => join\n",
            "the => the\n",
            "CCP => CCP\n",
            "and => and\n",
            "worked => work\n",
            "as => as\n",
            "the => the\n",
            "party => party\n",
            "secretary => secretary\n",
            ". => .\n"
          ],
          "name": "stdout"
        }
      ]
    },
    {
      "cell_type": "code",
      "metadata": {
        "colab": {
          "base_uri": "https://localhost:8080/"
        },
        "id": "imSeLDXO4_tU",
        "outputId": "1aa572da-e328-4f7a-ffc4-6b9cae7aefca"
      },
      "source": [
        "import spacy\r\n",
        "\r\n",
        "# Download a spacy model for processing English\r\n",
        "nlp = spacy.load(\"en_core_web_sm\")\r\n",
        "\r\n",
        "\r\n",
        "# Display the entities found by the model, and the type of each.\r\n",
        "print('{:<12}  {:}\\n'.format('Entity', 'Type'))\r\n",
        "\r\n",
        "# For each entity found...\r\n",
        "for ent in doc.ents:\r\n",
        "    \r\n",
        "    # Print the entity text `ent.text` and its label `ent.label_`.\r\n",
        "    print('{:<12}  {:}'.format(ent.text, ent.label_))"
      ],
      "execution_count": 9,
      "outputs": [
        {
          "output_type": "stream",
          "text": [
            "Entity        Type\n",
            "\n",
            "Xi Jinping    PERSON\n",
            "Chinese       NORP\n",
            "the Chinese Communist Party  ORG\n",
            "CCP           ORG\n",
            "the Central Military Commission  ORG\n",
            "2012          DATE\n",
            "the People's Republic of China  GPE\n",
            "PRC           GPE\n",
            "2013          DATE\n",
            "China         GPE\n",
            "2012          DATE\n",
            "Chinese       NORP\n",
            "Communist     NORP\n",
            "Xi Zhongxun   PERSON\n",
            "Yanchuan County  GPE\n",
            "the Cultural Revolutionandlived  EVENT\n",
            "Liangjiahe    GPE\n",
            "CCP           ORG\n"
          ],
          "name": "stdout"
        }
      ]
    },
    {
      "cell_type": "code",
      "metadata": {
        "id": "qY_N_FER3iUk"
      },
      "source": [
        "from nltk.tokenize import word_tokenize\n",
        "\n",
        "def get_word_tokens(sentences):\n",
        "    '''Word tokenization'''\n",
        "    words = []\n",
        "    for sent in sentences:\n",
        "        words.extend(word_tokenize(sent))\n",
        "    print(words)\n",
        "    return(words)\n"
      ],
      "execution_count": 10,
      "outputs": []
    },
    {
      "cell_type": "code",
      "metadata": {
        "colab": {
          "base_uri": "https://localhost:8080/"
        },
        "id": "UTCcafEX2ZcF",
        "outputId": "84abf7a2-4a0b-48e1-f998-4c6e8f5a0848"
      },
      "source": [
        "sample_words = get_word_tokens(sample_sentences)"
      ],
      "execution_count": 11,
      "outputs": [
        {
          "output_type": "stream",
          "text": [
            "['Xi', 'Jinping', 'is', 'a', 'Chinese', 'politician', 'who', 'has', 'served', 'as', 'General', 'Secretary', 'of', 'the', 'Chinese', 'Communist', 'Party', '(', 'CCP', ')', 'and', 'Chairman', 'of', 'the', 'Central', 'Military', 'Commission', '(', 'CMC', ')', 'since', '2012', ',', 'and', 'President', 'of', 'the', 'People', \"'s\", 'Republic', 'of', 'China', '(', 'PRC', ')', 'since', '2013', '.', 'He', 'has', 'been', 'the', 'paramount', 'leader', 'of', 'China', ',', 'the', 'most', 'prominent', 'political', 'leader', 'in', 'the', 'country', ',', 'since', '2012', '.', 'The', 'son', 'of', 'Chinese', 'Communist', 'veteran', 'Xi', 'Zhongxun', ',', 'he', 'was', 'exiled', 'to', 'rural', 'Yanchuan', 'County', 'as', 'a', 'teenager', 'following', 'his', 'father', \"'s\", 'purge', 'during', 'the', 'Cultural', 'Revolutionandlived', 'in', 'a', 'cave', 'in', 'the', 'village', 'of', 'Liangjiahe', ',', 'where', 'he', 'joined', 'the', 'CCP', 'and', 'worked', 'as', 'the', 'party', 'secretary', '.']\n"
          ],
          "name": "stdout"
        }
      ]
    },
    {
      "cell_type": "code",
      "metadata": {
        "id": "ruZdfBL03iVC",
        "colab": {
          "base_uri": "https://localhost:8080/"
        },
        "outputId": "30b8a7e2-6fa9-497d-926d-86525159166e"
      },
      "source": [
        "nltk.download('averaged_perceptron_tagger')\n",
        "\n",
        "def get_pos_tags(words):\n",
        "    tags=[]\n",
        "    for word in words:\n",
        "        tags.append(nltk.pos_tag([word]))\n",
        "    print(tags)\n",
        "    return tags"
      ],
      "execution_count": 12,
      "outputs": [
        {
          "output_type": "stream",
          "text": [
            "[nltk_data] Downloading package averaged_perceptron_tagger to\n",
            "[nltk_data]     /root/nltk_data...\n",
            "[nltk_data]   Unzipping taggers/averaged_perceptron_tagger.zip.\n"
          ],
          "name": "stdout"
        }
      ]
    },
    {
      "cell_type": "code",
      "metadata": {
        "colab": {
          "base_uri": "https://localhost:8080/"
        },
        "id": "T8Phy4l53Tn3",
        "outputId": "b4788a58-66b4-4feb-acb0-3cf362fff3ab"
      },
      "source": [
        "sample_tags = get_pos_tags(sample_words)"
      ],
      "execution_count": 13,
      "outputs": [
        {
          "output_type": "stream",
          "text": [
            "[[('Xi', 'NN')], [('Jinping', 'VBG')], [('is', 'VBZ')], [('a', 'DT')], [('Chinese', 'JJ')], [('politician', 'NN')], [('who', 'WP')], [('has', 'VBZ')], [('served', 'VBD')], [('as', 'IN')], [('General', 'NNP')], [('Secretary', 'NNP')], [('of', 'IN')], [('the', 'DT')], [('Chinese', 'JJ')], [('Communist', 'NN')], [('Party', 'NNP')], [('(', '(')], [('CCP', 'NN')], [(')', ')')], [('and', 'CC')], [('Chairman', 'NNP')], [('of', 'IN')], [('the', 'DT')], [('Central', 'JJ')], [('Military', 'JJ')], [('Commission', 'NNP')], [('(', '(')], [('CMC', 'NN')], [(')', ')')], [('since', 'IN')], [('2012', 'CD')], [(',', ',')], [('and', 'CC')], [('President', 'NNP')], [('of', 'IN')], [('the', 'DT')], [('People', 'NNS')], [(\"'s\", 'POS')], [('Republic', 'JJ')], [('of', 'IN')], [('China', 'NNP')], [('(', '(')], [('PRC', 'NN')], [(')', ')')], [('since', 'IN')], [('2013', 'CD')], [('.', '.')], [('He', 'PRP')], [('has', 'VBZ')], [('been', 'VBN')], [('the', 'DT')], [('paramount', 'NN')], [('leader', 'NN')], [('of', 'IN')], [('China', 'NNP')], [(',', ',')], [('the', 'DT')], [('most', 'JJS')], [('prominent', 'NN')], [('political', 'JJ')], [('leader', 'NN')], [('in', 'IN')], [('the', 'DT')], [('country', 'NN')], [(',', ',')], [('since', 'IN')], [('2012', 'CD')], [('.', '.')], [('The', 'DT')], [('son', 'NN')], [('of', 'IN')], [('Chinese', 'JJ')], [('Communist', 'NN')], [('veteran', 'NN')], [('Xi', 'NN')], [('Zhongxun', 'NN')], [(',', ',')], [('he', 'PRP')], [('was', 'VBD')], [('exiled', 'VBN')], [('to', 'TO')], [('rural', 'JJ')], [('Yanchuan', 'NN')], [('County', 'NNP')], [('as', 'IN')], [('a', 'DT')], [('teenager', 'NN')], [('following', 'VBG')], [('his', 'PRP$')], [('father', 'NN')], [(\"'s\", 'POS')], [('purge', 'NN')], [('during', 'IN')], [('the', 'DT')], [('Cultural', 'JJ')], [('Revolutionandlived', 'VBN')], [('in', 'IN')], [('a', 'DT')], [('cave', 'NN')], [('in', 'IN')], [('the', 'DT')], [('village', 'NN')], [('of', 'IN')], [('Liangjiahe', 'NN')], [(',', ',')], [('where', 'WRB')], [('he', 'PRP')], [('joined', 'VBD')], [('the', 'DT')], [('CCP', 'NN')], [('and', 'CC')], [('worked', 'VBN')], [('as', 'IN')], [('the', 'DT')], [('party', 'NN')], [('secretary', 'NN')], [('.', '.')]]\n"
          ],
          "name": "stdout"
        }
      ]
    },
    {
      "cell_type": "code",
      "metadata": {
        "id": "EMbZOcRPRW5P"
      },
      "source": [
        "from textblob import TextBlob\r\n"
      ],
      "execution_count": 14,
      "outputs": []
    },
    {
      "cell_type": "code",
      "metadata": {
        "colab": {
          "base_uri": "https://localhost:8080/"
        },
        "id": "XpLDRLalYc7S",
        "outputId": "5570e35b-a4a9-4793-af8b-3d9f24989165"
      },
      "source": [
        "b = TextBlob(\"Xi Jinping is a Chinese politician who has served as General Secretary of the Chinese Communist Party (CCP) and Chairman of the Central Military Commission (CMC) since 2012, and President of the People's Republic of China (PRC) since 2013. He has been the paramount leader of China, the most prominent political leader in the country, since 2012. The son of Chinese Communist veteran Xi Zhongxun, he was exiled to rural Yanchuan County as a teenager following his father's purge during the Cultural Revolution and lived in a cave in the village of Liangjiahe, where he joined the CCP and worked as the party secretary.\")\r\n",
        "print(b.parse())"
      ],
      "execution_count": 15,
      "outputs": [
        {
          "output_type": "stream",
          "text": [
            "Xi/NNP/B-NP/O Jinping/NNP/I-NP/O is/VBZ/B-VP/O a/DT/B-NP/O Chinese/JJ/I-NP/O politician/NN/I-NP/O who/WP/O/O has/VBZ/B-VP/O served/VBN/I-VP/O as/IN/B-PP/B-PNP General/NNP/B-NP/I-PNP Secretary/NNP/I-NP/I-PNP of/IN/B-PP/B-PNP the/DT/B-NP/I-PNP Chinese/JJ/I-NP/I-PNP Communist/NNP/I-NP/I-PNP Party/NNP/I-NP/I-PNP (/(/O/O CCP/NN/B-NP/O )/)/O/O and/CC/O/O Chairman/NNP/B-NP/O of/IN/B-PP/B-PNP the/DT/B-NP/I-PNP Central/NNP/I-NP/I-PNP Military/NNP/I-NP/I-PNP Commission/NNP/I-NP/I-PNP (/(/O/O CMC/NN/B-NP/O )/)/O/O since/IN/B-PP/O 2012/CD/O/O ,/,/O/O and/CC/O/O President/NNP/B-NP/O of/IN/B-PP/B-PNP the/DT/B-NP/I-PNP People/NNS/I-NP/I-PNP '/POS/O/O s/PRP/B-NP/O Republic/NNP/I-NP/O of/IN/B-PP/B-PNP China/NNP/B-NP/I-PNP (/(/O/O PRC/NNP/B-NP/O )/)/O/O since/IN/B-PP/O 2013/CD/O/O ././O/O\n",
            "He/PRP/B-NP/O has/VBZ/B-VP/O been/VBN/I-VP/O the/DT/B-NP/O paramount/JJ/I-NP/O leader/NN/I-NP/O of/IN/B-PP/B-PNP China/NNP/B-NP/I-PNP ,/,/O/O the/DT/B-NP/O most/RBS/I-NP/O prominent/JJ/I-NP/O political/JJ/I-NP/O leader/NN/I-NP/O in/IN/B-PP/B-PNP the/DT/B-NP/I-PNP country/NN/I-NP/I-PNP ,/,/O/O since/IN/B-PP/O 2012/CD/O/O ././O/O\n",
            "The/DT/B-NP/O son/NN/I-NP/O of/IN/B-PP/B-PNP Chinese/JJ/B-NP/I-PNP Communist/NNP/I-NP/I-PNP veteran/NN/I-NP/I-PNP Xi/NNP/I-NP/I-PNP Zhongxun/NNP/I-NP/I-PNP ,/,/O/O he/PRP/B-NP/O was/VBD/B-VP/O exiled/VBN/I-VP/O to/TO/B-PP/B-PNP rural/JJ/B-NP/I-PNP Yanchuan/NNP/I-NP/I-PNP County/NNP/I-NP/I-PNP as/IN/B-PP/B-PNP a/DT/B-NP/I-PNP teenager/NN/I-NP/I-PNP following/VBG/B-VP/I-PNP his/PRP$/B-NP/I-PNP father/NN/I-NP/I-PNP '/POS/O/O s/PRP/B-NP/O purge/NN/I-NP/O during/IN/B-PP/B-PNP the/DT/B-NP/I-PNP Cultural/NNP/I-NP/I-PNP Revolution/NNP/I-NP/I-PNP and/CC/O/O lived/VBD/B-VP/O in/IN/B-PP/B-PNP a/DT/B-NP/I-PNP cave/NN/I-NP/I-PNP in/IN/B-PP/B-PNP the/DT/B-NP/I-PNP village/NN/I-NP/I-PNP of/IN/B-PP/B-PNP Liangjiahe/NNP/B-NP/I-PNP ,/,/O/O where/WRB/B-ADVP/O he/PRP/B-NP/O joined/VBD/B-VP/O the/DT/B-NP/O CCP/NN/I-NP/O and/CC/O/O worked/VBD/B-VP/O as/IN/B-PP/B-PNP the/DT/B-NP/I-PNP party/NN/I-NP/I-PNP secretary/NN/I-NP/I-PNP ././O/O\n"
          ],
          "name": "stdout"
        }
      ]
    }
  ]
}